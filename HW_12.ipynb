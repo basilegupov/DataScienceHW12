{
  "nbformat": 4,
  "nbformat_minor": 0,
  "metadata": {
    "colab": {
      "provenance": []
    },
    "kernelspec": {
      "name": "python3",
      "display_name": "Python 3"
    },
    "language_info": {
      "name": "python"
    }
  },
  "cells": [
    {
      "cell_type": "code",
      "source": [
        "# Зробіть summary нижчевказаного тексту використовуючи бібліотеки для NLP: nltk та SpaCy\n",
        "# NLP — это технологии, которые помогают компьютерам понимать текст на нашем языке.\n",
        "# Библиотеки nltk и SpaCy помогают компьютеру анализировать текст, находить важные части и создавать краткое изложение."
      ],
      "metadata": {
        "id": "JdNMx4W8T57B"
      },
      "execution_count": 1,
      "outputs": []
    },
    {
      "cell_type": "code",
      "source": [
        "# Текст для обработки\n",
        "text = 'The Orbiter Discovery, OV-103, is considered eligible for listing in the National Register of Historic Places (NRHP) in the context of the U.S. Space Shuttle Program (1969-2011) under Criterion A in the areas of Space Exploration and Transportation and under Criterion C in the area of Engineering. Because it has achieved significance within the past fifty years, Criteria Consideration G applies. Under Criterion A, Discovery is significant as the oldest of the three extant orbiter vehicles constructed for the Space Shuttle Program (SSP), the longest running American space program to date; she was the third of five orbiters built by NASA. Unlike the Mercury, Gemini, and Apollo programs, the SSP’s emphasis was on cost effectiveness and reusability, and eventually the construction of a space station. Including her maiden voyage (launched August 30, 1984), Discovery flew to space thirty-nine times, more than any of the other four orbiters; she was also the first orbiter to fly twenty missions. She had the honor of being chosen as the Return to Flight vehicle after both the Challenger and Columbia accidents. Discovery was the first shuttle to fly with the redesigned SRBs, a result of the Challenger accident, and the first shuttle to fly with the Phase II and Block I SSME. Discovery also carried the Hubble Space Telescope to orbit and performed two of the five servicing missions to the observatory. She flew the first and last dedicated Department of Defense (DoD) missions, as well as the first unclassified defense-related mission. In addition, Discovery was vital to the construction of the International Space Station (ISS); she flew thirteen of the thirty-seven total missions flown to the station by a U.S. Space Shuttle. She was the first orbiter to dock to the ISS, and the first to perform an exchange of a resident crew. Under Criterion C, Discovery is significant as a feat of engineering. According to Wayne Hale, a flight director from Johnson Space Center, the Space Shuttle orbiter represents a “huge technological leap from expendable rockets and capsules to a reusable, winged, hypersonic, cargo-carrying spacecraft.” Although her base structure followed a conventional aircraft design, she used advanced materials that both minimized her weight for cargo-carrying purposes and featured low thermal expansion ratios, which provided a stable base for her Thermal Protection System (TPS) materials. The Space Shuttle orbiter also featured the first reusable TPS; all previous spaceflight vehicles had a single-use, ablative heat shield. Other notable engineering achievements of the orbiter included the first reusable orbital propulsion system, and the first two-fault-tolerant Integrated Avionics System. As Hale stated, the Space Shuttle remains “the largest, fastest, winged hypersonic aircraft in history,” having regularly flown at twenty-five times the speed of sound.'"
      ],
      "metadata": {
        "id": "hT3DMp4UO61t"
      },
      "execution_count": 2,
      "outputs": []
    },
    {
      "cell_type": "code",
      "source": [
        "# Перш за все, ми повинні імпортувати необхідні бібліотеки. Для SpaCy це можна зробити за допомогою команди:import spacy\n",
        "# Зауважте, що для NLTK можливо потрібно завантажити додаткові дані, наприклад, список стоп-слів або токенізатори.\n",
        "# ⬇️"
      ],
      "metadata": {
        "id": "2R6xRDaZVL5y"
      },
      "execution_count": 3,
      "outputs": []
    },
    {
      "cell_type": "code",
      "source": [
        "import spacy\n",
        "import nltk\n",
        "from nltk.corpus import stopwords\n",
        "from nltk.tokenize import word_tokenize, sent_tokenize\n",
        "from string import punctuation"
      ],
      "metadata": {
        "id": "Dt6vjacnKhZg"
      },
      "execution_count": 4,
      "outputs": []
    },
    {
      "cell_type": "code",
      "source": [
        "# Перш ніж почати роботу з SpaCy, необхідно завантажити потрібну мовну модель. Наприклад, для англійської мови ми можемо завантажити модель \"en_core_web_sm\":\n",
        "# ⬇️"
      ],
      "metadata": {
        "id": "bFsPnm8rUALw"
      },
      "execution_count": 5,
      "outputs": []
    },
    {
      "cell_type": "code",
      "source": [
        "nlp = spacy.load('en_core_web_sm')"
      ],
      "metadata": {
        "id": "vDg9ykwXLyJ8"
      },
      "execution_count": 6,
      "outputs": []
    },
    {
      "cell_type": "code",
      "source": [
        "# Підготовка тексту\n",
        "# Перш ніж почати створювати text summary, текст потрібно підготувати ⬇️.\n",
        "# Це включає в себе видалення непотрібних символів, токенізацію (розбиття тексту на окремі слова або речення), видалення стоп-слів\n",
        "# (слова, які не несуть суттєвої інформації) і, за необхідності, інші обробки тексту, такі як стемінг або лематизація."
      ],
      "metadata": {
        "id": "kgzzO4CRVYnh"
      },
      "execution_count": 7,
      "outputs": []
    },
    {
      "cell_type": "code",
      "source": [
        "# Этот код помогает понять, как компьютер может разделить предложение на слова.\n",
        "# Берёт текст и разбивает его на отдельные слова => Сохраняет эти слова в список. => Показывает этот список.\n",
        "\n",
        "# Мы используем библиотеку SpaCy, чтобы проанализировать текст.\n",
        "# nlp - это функция, которая превращает текст в набор токенов (слова или части слов)\n",
        "doc = nlp(text)\n",
        "print(f'Doc object, which represents the analyzed text: {doc}')\n",
        "# Мы проходим по каждому токену (словам) и сохраняем их в список\n",
        "tokens = [token.text for token in doc]\n",
        "# Выводим список токенов (слов) на экран\n",
        "print(tokens)"
      ],
      "metadata": {
        "colab": {
          "base_uri": "https://localhost:8080/"
        },
        "id": "re6V8L7WMHk_",
        "outputId": "348be008-fa2a-43a7-9f11-2c7f0df1e74e"
      },
      "execution_count": 8,
      "outputs": [
        {
          "output_type": "stream",
          "name": "stdout",
          "text": [
            "Doc object, which represents the analyzed text: The Orbiter Discovery, OV-103, is considered eligible for listing in the National Register of Historic Places (NRHP) in the context of the U.S. Space Shuttle Program (1969-2011) under Criterion A in the areas of Space Exploration and Transportation and under Criterion C in the area of Engineering. Because it has achieved significance within the past fifty years, Criteria Consideration G applies. Under Criterion A, Discovery is significant as the oldest of the three extant orbiter vehicles constructed for the Space Shuttle Program (SSP), the longest running American space program to date; she was the third of five orbiters built by NASA. Unlike the Mercury, Gemini, and Apollo programs, the SSP’s emphasis was on cost effectiveness and reusability, and eventually the construction of a space station. Including her maiden voyage (launched August 30, 1984), Discovery flew to space thirty-nine times, more than any of the other four orbiters; she was also the first orbiter to fly twenty missions. She had the honor of being chosen as the Return to Flight vehicle after both the Challenger and Columbia accidents. Discovery was the first shuttle to fly with the redesigned SRBs, a result of the Challenger accident, and the first shuttle to fly with the Phase II and Block I SSME. Discovery also carried the Hubble Space Telescope to orbit and performed two of the five servicing missions to the observatory. She flew the first and last dedicated Department of Defense (DoD) missions, as well as the first unclassified defense-related mission. In addition, Discovery was vital to the construction of the International Space Station (ISS); she flew thirteen of the thirty-seven total missions flown to the station by a U.S. Space Shuttle. She was the first orbiter to dock to the ISS, and the first to perform an exchange of a resident crew. Under Criterion C, Discovery is significant as a feat of engineering. According to Wayne Hale, a flight director from Johnson Space Center, the Space Shuttle orbiter represents a “huge technological leap from expendable rockets and capsules to a reusable, winged, hypersonic, cargo-carrying spacecraft.” Although her base structure followed a conventional aircraft design, she used advanced materials that both minimized her weight for cargo-carrying purposes and featured low thermal expansion ratios, which provided a stable base for her Thermal Protection System (TPS) materials. The Space Shuttle orbiter also featured the first reusable TPS; all previous spaceflight vehicles had a single-use, ablative heat shield. Other notable engineering achievements of the orbiter included the first reusable orbital propulsion system, and the first two-fault-tolerant Integrated Avionics System. As Hale stated, the Space Shuttle remains “the largest, fastest, winged hypersonic aircraft in history,” having regularly flown at twenty-five times the speed of sound.\n",
            "['The', 'Orbiter', 'Discovery', ',', 'OV-103', ',', 'is', 'considered', 'eligible', 'for', 'listing', 'in', 'the', 'National', 'Register', 'of', 'Historic', 'Places', '(', 'NRHP', ')', 'in', 'the', 'context', 'of', 'the', 'U.S.', 'Space', 'Shuttle', 'Program', '(', '1969', '-', '2011', ')', 'under', 'Criterion', 'A', 'in', 'the', 'areas', 'of', 'Space', 'Exploration', 'and', 'Transportation', 'and', 'under', 'Criterion', 'C', 'in', 'the', 'area', 'of', 'Engineering', '.', 'Because', 'it', 'has', 'achieved', 'significance', 'within', 'the', 'past', 'fifty', 'years', ',', 'Criteria', 'Consideration', 'G', 'applies', '.', 'Under', 'Criterion', 'A', ',', 'Discovery', 'is', 'significant', 'as', 'the', 'oldest', 'of', 'the', 'three', 'extant', 'orbiter', 'vehicles', 'constructed', 'for', 'the', 'Space', 'Shuttle', 'Program', '(', 'SSP', ')', ',', 'the', 'longest', 'running', 'American', 'space', 'program', 'to', 'date', ';', 'she', 'was', 'the', 'third', 'of', 'five', 'orbiters', 'built', 'by', 'NASA', '.', 'Unlike', 'the', 'Mercury', ',', 'Gemini', ',', 'and', 'Apollo', 'programs', ',', 'the', 'SSP', '’s', 'emphasis', 'was', 'on', 'cost', 'effectiveness', 'and', 'reusability', ',', 'and', 'eventually', 'the', 'construction', 'of', 'a', 'space', 'station', '.', 'Including', 'her', 'maiden', 'voyage', '(', 'launched', 'August', '30', ',', '1984', ')', ',', 'Discovery', 'flew', 'to', 'space', 'thirty', '-', 'nine', 'times', ',', 'more', 'than', 'any', 'of', 'the', 'other', 'four', 'orbiters', ';', 'she', 'was', 'also', 'the', 'first', 'orbiter', 'to', 'fly', 'twenty', 'missions', '.', 'She', 'had', 'the', 'honor', 'of', 'being', 'chosen', 'as', 'the', 'Return', 'to', 'Flight', 'vehicle', 'after', 'both', 'the', 'Challenger', 'and', 'Columbia', 'accidents', '.', 'Discovery', 'was', 'the', 'first', 'shuttle', 'to', 'fly', 'with', 'the', 'redesigned', 'SRBs', ',', 'a', 'result', 'of', 'the', 'Challenger', 'accident', ',', 'and', 'the', 'first', 'shuttle', 'to', 'fly', 'with', 'the', 'Phase', 'II', 'and', 'Block', 'I', 'SSME', '.', 'Discovery', 'also', 'carried', 'the', 'Hubble', 'Space', 'Telescope', 'to', 'orbit', 'and', 'performed', 'two', 'of', 'the', 'five', 'servicing', 'missions', 'to', 'the', 'observatory', '.', 'She', 'flew', 'the', 'first', 'and', 'last', 'dedicated', 'Department', 'of', 'Defense', '(', 'DoD', ')', 'missions', ',', 'as', 'well', 'as', 'the', 'first', 'unclassified', 'defense', '-', 'related', 'mission', '.', 'In', 'addition', ',', 'Discovery', 'was', 'vital', 'to', 'the', 'construction', 'of', 'the', 'International', 'Space', 'Station', '(', 'ISS', ')', ';', 'she', 'flew', 'thirteen', 'of', 'the', 'thirty', '-', 'seven', 'total', 'missions', 'flown', 'to', 'the', 'station', 'by', 'a', 'U.S.', 'Space', 'Shuttle', '.', 'She', 'was', 'the', 'first', 'orbiter', 'to', 'dock', 'to', 'the', 'ISS', ',', 'and', 'the', 'first', 'to', 'perform', 'an', 'exchange', 'of', 'a', 'resident', 'crew', '.', 'Under', 'Criterion', 'C', ',', 'Discovery', 'is', 'significant', 'as', 'a', 'feat', 'of', 'engineering', '.', 'According', 'to', 'Wayne', 'Hale', ',', 'a', 'flight', 'director', 'from', 'Johnson', 'Space', 'Center', ',', 'the', 'Space', 'Shuttle', 'orbiter', 'represents', 'a', '“', 'huge', 'technological', 'leap', 'from', 'expendable', 'rockets', 'and', 'capsules', 'to', 'a', 'reusable', ',', 'winged', ',', 'hypersonic', ',', 'cargo', '-', 'carrying', 'spacecraft', '.', '”', 'Although', 'her', 'base', 'structure', 'followed', 'a', 'conventional', 'aircraft', 'design', ',', 'she', 'used', 'advanced', 'materials', 'that', 'both', 'minimized', 'her', 'weight', 'for', 'cargo', '-', 'carrying', 'purposes', 'and', 'featured', 'low', 'thermal', 'expansion', 'ratios', ',', 'which', 'provided', 'a', 'stable', 'base', 'for', 'her', 'Thermal', 'Protection', 'System', '(', 'TPS', ')', 'materials', '.', 'The', 'Space', 'Shuttle', 'orbiter', 'also', 'featured', 'the', 'first', 'reusable', 'TPS', ';', 'all', 'previous', 'spaceflight', 'vehicles', 'had', 'a', 'single', '-', 'use', ',', 'ablative', 'heat', 'shield', '.', 'Other', 'notable', 'engineering', 'achievements', 'of', 'the', 'orbiter', 'included', 'the', 'first', 'reusable', 'orbital', 'propulsion', 'system', ',', 'and', 'the', 'first', 'two', '-', 'fault', '-', 'tolerant', 'Integrated', 'Avionics', 'System', '.', 'As', 'Hale', 'stated', ',', 'the', 'Space', 'Shuttle', 'remains', '“', 'the', 'largest', ',', 'fastest', ',', 'winged', 'hypersonic', 'aircraft', 'in', 'history', ',', '”', 'having', 'regularly', 'flown', 'at', 'twenty', '-', 'five', 'times', 'the', 'speed', 'of', 'sound', '.']\n"
          ]
        }
      ]
    },
    {
      "cell_type": "code",
      "source": [
        "# результат:⬆️\n",
        "# The Orbiter Discovery, OV-103, is considered eligible for listing in the National.....\n",
        "# код смог разделить предложение на отдельные слова и знаки препинания (запятые, точки).\n",
        "# Каждый элемент стал отдельной частью, и теперь с ними можно работать по отдельности, например, для анализа или перевода.\n",
        "# ['The', 'Orbiter', 'Discovery', ',', 'OV-103', ',', 'is', 'considered', 'eligible', 'for', 'listing', 'in', 'the', 'National', ... ]"
      ],
      "metadata": {
        "id": "Bsngo50RXqxg"
      },
      "execution_count": 9,
      "outputs": []
    },
    {
      "cell_type": "code",
      "source": [
        "# Этот код помогает скачать нужные данные, чтобы библиотека NLTK могла правильно работать с текстами.\n",
        "# загружает список часто встречающихся слов, которые не нужно учитывать при анализе текста (например, \"the\", \"is\").\n",
        "nltk.download('stopwords')\n",
        "# загружает информацию, чтобы можно было разбивать текст на отдельные слова и предложения.\n",
        "nltk.download('punkt')\n"
      ],
      "metadata": {
        "id": "IrIlF6tuMWJu",
        "colab": {
          "base_uri": "https://localhost:8080/"
        },
        "outputId": "8fd7ed7e-9018-41dc-d5a7-b2d0101af2c9"
      },
      "execution_count": 10,
      "outputs": [
        {
          "output_type": "stream",
          "name": "stderr",
          "text": [
            "[nltk_data] Downloading package stopwords to /root/nltk_data...\n",
            "[nltk_data]   Unzipping corpora/stopwords.zip.\n",
            "[nltk_data] Downloading package punkt to /root/nltk_data...\n",
            "[nltk_data]   Unzipping tokenizers/punkt.zip.\n"
          ]
        },
        {
          "output_type": "execute_result",
          "data": {
            "text/plain": [
              "True"
            ]
          },
          "metadata": {},
          "execution_count": 10
        }
      ]
    },
    {
      "cell_type": "code",
      "source": [
        "# ⬆️ Данные успешно скачены и распакованы. Теперь у нас есть всё, что нужно для работы со стоп-словами и для того, чтобы разбивать текст на слова и предложения."
      ],
      "metadata": {
        "id": "tFaDeL_wbvqo"
      },
      "execution_count": 11,
      "outputs": []
    },
    {
      "cell_type": "code",
      "source": [
        "# NLTK також надає розширені функції для обробки тексту. За допомогою методів NLTK, таких як word_tokenize, sent_tokenize або stopwords,\n",
        "#  ми можемо отримати токенизовані слова та речення, а також список стоп-слів. І також не забуваємо про знаки пунктуації\n",
        "# tokens = word_tokenize(text) # Разбиваем текст на отдельные слова (токены)\n",
        "# sentences = sent_tokenize(text) # Разбиваем текст на предложения\n",
        "# stop_words = set(stopwords.words('english')) # Получаем список стоп-слов (часто встречающиеся, но незначительные слова, например, \"and\", \"the\") для EN языка\n",
        "# punctuation = punctuation + '\\n' # Объединяем пунктуацию (знаки препинания) с символом новой строки ('\\n')\n",
        "# Этот код подготавливает текст для анализа: делит его на слова, предложения и готовит список слов, которые можно не учитывать при обработке."
      ],
      "metadata": {
        "id": "yCR3kuTqZ2BW"
      },
      "execution_count": 12,
      "outputs": []
    },
    {
      "cell_type": "code",
      "source": [
        "tokens = word_tokenize(text)# Разбиваем текст на отдельные слова (токены)\n",
        "print(f'Tokens: {tokens[:15]}')# Выводим первые 15 слов из текста\n",
        "sentences = sent_tokenize(text)# Разбиваем текст на предложения\n",
        "print(f'Sentences: {sentences}')# Выводим список предложений\n",
        "stop_words = set(stopwords.words('english'))# Создаём набор стоп-слов (слова, которые не нужны для анализа)\n",
        "print(f'Stop words: {stop_words}')# Выводим список стоп-слов\n",
        "\n",
        "# Этот код помогает увидеть, как текст разбит на слова и предложения, а также показывает, какие слова можно пропустить, потому что они не важны для анализа"
      ],
      "metadata": {
        "colab": {
          "base_uri": "https://localhost:8080/"
        },
        "id": "LRodSy5ZPPmM",
        "outputId": "1ff385aa-536d-4f2f-c97c-46b3bddaa01a"
      },
      "execution_count": 13,
      "outputs": [
        {
          "output_type": "stream",
          "name": "stdout",
          "text": [
            "Tokens: ['The', 'Orbiter', 'Discovery', ',', 'OV-103', ',', 'is', 'considered', 'eligible', 'for', 'listing', 'in', 'the', 'National', 'Register']\n",
            "Sentences: ['The Orbiter Discovery, OV-103, is considered eligible for listing in the National Register of Historic Places (NRHP) in the context of the U.S. Space Shuttle Program (1969-2011) under Criterion A in the areas of Space Exploration and Transportation and under Criterion C in the area of Engineering.', 'Because it has achieved significance within the past fifty years, Criteria Consideration G applies.', 'Under Criterion A, Discovery is significant as the oldest of the three extant orbiter vehicles constructed for the Space Shuttle Program (SSP), the longest running American space program to date; she was the third of five orbiters built by NASA.', 'Unlike the Mercury, Gemini, and Apollo programs, the SSP’s emphasis was on cost effectiveness and reusability, and eventually the construction of a space station.', 'Including her maiden voyage (launched August 30, 1984), Discovery flew to space thirty-nine times, more than any of the other four orbiters; she was also the first orbiter to fly twenty missions.', 'She had the honor of being chosen as the Return to Flight vehicle after both the Challenger and Columbia accidents.', 'Discovery was the first shuttle to fly with the redesigned SRBs, a result of the Challenger accident, and the first shuttle to fly with the Phase II and Block I SSME.', 'Discovery also carried the Hubble Space Telescope to orbit and performed two of the five servicing missions to the observatory.', 'She flew the first and last dedicated Department of Defense (DoD) missions, as well as the first unclassified defense-related mission.', 'In addition, Discovery was vital to the construction of the International Space Station (ISS); she flew thirteen of the thirty-seven total missions flown to the station by a U.S. Space Shuttle.', 'She was the first orbiter to dock to the ISS, and the first to perform an exchange of a resident crew.', 'Under Criterion C, Discovery is significant as a feat of engineering.', 'According to Wayne Hale, a flight director from Johnson Space Center, the Space Shuttle orbiter represents a “huge technological leap from expendable rockets and capsules to a reusable, winged, hypersonic, cargo-carrying spacecraft.” Although her base structure followed a conventional aircraft design, she used advanced materials that both minimized her weight for cargo-carrying purposes and featured low thermal expansion ratios, which provided a stable base for her Thermal Protection System (TPS) materials.', 'The Space Shuttle orbiter also featured the first reusable TPS; all previous spaceflight vehicles had a single-use, ablative heat shield.', 'Other notable engineering achievements of the orbiter included the first reusable orbital propulsion system, and the first two-fault-tolerant Integrated Avionics System.', 'As Hale stated, the Space Shuttle remains “the largest, fastest, winged hypersonic aircraft in history,” having regularly flown at twenty-five times the speed of sound.']\n",
            "Stop words: {\"didn't\", 'me', \"won't\", 'how', 'what', 'more', 'ma', 'is', 'am', 'did', 'hasn', 'him', 'under', 'can', \"mightn't\", 'we', 'up', 'most', 'those', 'it', 'both', 'don', 'himself', 'because', \"needn't\", 'during', 'our', 'now', 'other', 'of', 'the', \"haven't\", 'with', 'from', 'own', 've', 'hers', 'out', \"shouldn't\", \"you'll\", 'through', 'doing', \"hadn't\", \"weren't\", 'between', 'were', \"couldn't\", 'wasn', 'haven', 'into', 'doesn', 'shouldn', 'before', 'no', 'you', 'do', \"isn't\", 'needn', 'll', 'weren', 'ourselves', 'itself', 'about', 'been', 'yourself', 'such', 'there', 'having', 'until', 'their', 'she', 'his', 'all', 'over', 'while', 'and', \"wouldn't\", 'your', 'why', \"it's\", 'who', 'each', 'her', 'once', 'an', 'to', 'same', 'down', 'further', 'which', 'then', 'theirs', \"wasn't\", \"mustn't\", 'couldn', 'but', 'than', 'm', 'few', 'hadn', 'have', 'against', 'here', 'any', 'i', 'when', 'them', 'mustn', \"you're\", 'by', 'myself', 'too', 'above', 'y', 'whom', 'some', 'these', 'was', \"she's\", \"that'll\", \"aren't\", 'below', 'not', 'after', 'mightn', 'didn', 'a', 'won', 'has', 'are', 'does', 's', 'herself', 'off', 'nor', 'again', 'wouldn', 'its', 'isn', 'only', 'had', 'for', 'shan', 'or', 'aren', 'if', 'yours', 'as', 'they', 'at', \"shan't\", \"you've\", 'this', 'just', \"should've\", 'd', 'be', 'o', 'ours', 'he', 'ain', 't', \"don't\", 'themselves', 'that', 'so', 'very', 're', 'where', \"you'd\", \"hasn't\", 'on', 'my', 'yourselves', 'in', 'will', 'should', \"doesn't\", 'being'}\n"
          ]
        }
      ]
    },
    {
      "cell_type": "code",
      "source": [
        "num_sentences = len(sentences)  # Считаем количество предложений\n",
        "print(f'Number of sentences: {num_sentences}')  # Выводим количество предложений"
      ],
      "metadata": {
        "colab": {
          "base_uri": "https://localhost:8080/"
        },
        "id": "31MfKtr2k0v_",
        "outputId": "d86afdaa-d0c4-4bcc-fd66-ed2bf1f9c53a"
      },
      "execution_count": 14,
      "outputs": [
        {
          "output_type": "stream",
          "name": "stdout",
          "text": [
            "Number of sentences: 16\n"
          ]
        }
      ]
    },
    {
      "cell_type": "code",
      "source": [
        "# ⬆️\n",
        "# Токены (Tokens): Текст успешно разбит на отдельные слова и знаки препинания, как запятые и точки. Это помогает нам работать с каждым словом по отдельности.\n",
        "# Предложения (Sentences): Текст разбит на предложения. Мы можем работать с каждым предложением отдельно, что удобно для анализа длинных текстов.\n",
        "# Стоп-слова (Stop words): Мы получили список \"ненужных\" слов, таких как \"then\", \"about\", \"it\". Эти слова часто пропускаются, чтобы анализировать только важные части текста.\n",
        "# Общий вывод: Этот код подготовил текст для дальнейшей обработки: мы можем анализировать важные слова и предложения, игнорируя ненужные."
      ],
      "metadata": {
        "id": "hFN4gwf_hCLI"
      },
      "execution_count": 15,
      "outputs": []
    },
    {
      "cell_type": "code",
      "source": [
        "# Добавляем символ новой строки ('\\n') в список знаков препинания. Это может быть нужно, чтобы знаки препинания и строки обрабатывались вместе.\n",
        "punctuation = punctuation + '\\n'\n",
        "# Выводим обновлённый список знаков препинания на экран\n",
        "print(punctuation)\n",
        "# Этот код показывает, что к списку знаков препинания добавился символ новой строки. Это может помочь при работе с текстом, чтобы правильно разделять строки и знаки препинания."
      ],
      "metadata": {
        "colab": {
          "base_uri": "https://localhost:8080/"
        },
        "id": "9O2m_mQRQyOt",
        "outputId": "ddd22324-1fbc-4d66-8430-544016290422"
      },
      "execution_count": 16,
      "outputs": [
        {
          "output_type": "stream",
          "name": "stdout",
          "text": [
            "!\"#$%&'()*+,-./:;<=>?@[\\]^_`{|}~\n",
            "\n"
          ]
        }
      ]
    },
    {
      "cell_type": "code",
      "source": [
        "# ⬇️ Також можна порахувати частоту появи тих чи інших слів у тексті(але варто пам'ятати, що це треба робити, вже виключивши усі знаки пунктуації)"
      ],
      "metadata": {
        "id": "dlTEmIyBiYgd"
      },
      "execution_count": 17,
      "outputs": []
    },
    {
      "cell_type": "code",
      "source": [
        "# Создаём пустой словарь для хранения частоты каждого слова\n",
        "word_frequencies = {}\n",
        "\n",
        "# Проходим по каждому слову в тексте\n",
        "for word in doc:\n",
        "  # Пропускаем слова, которые являются стоп-словами\n",
        "  if word.text.lower() not in stop_words:\n",
        "    # Пропускаем слова, которые являются знаками препинания\n",
        "    if word.text.lower() not in punctuation:\n",
        "      # Если слово не встречалось ранее, добавляем его в словарь с частотой 1\n",
        "      if word.text not in word_frequencies:\n",
        "        word_frequencies[word.text] = 1\n",
        "      # Если слово уже есть в словаре, увеличиваем его частоту на 1\n",
        "      else:\n",
        "        word_frequencies[word.text] += 1\n",
        "\n",
        "# Выводим словарь частот слов\n",
        "print(word_frequencies)\n"
      ],
      "metadata": {
        "colab": {
          "base_uri": "https://localhost:8080/"
        },
        "id": "SsiCtde8QgZh",
        "outputId": "6dcb6b42-1084-4154-bd5a-7bd9ee28a968"
      },
      "execution_count": 18,
      "outputs": [
        {
          "output_type": "stream",
          "name": "stdout",
          "text": [
            "{'Orbiter': 1, 'Discovery': 7, 'OV-103': 1, 'considered': 1, 'eligible': 1, 'listing': 1, 'National': 1, 'Register': 1, 'Historic': 1, 'Places': 1, 'NRHP': 1, 'context': 1, 'U.S.': 2, 'Space': 10, 'Shuttle': 6, 'Program': 2, '1969': 1, '2011': 1, 'Criterion': 4, 'areas': 1, 'Exploration': 1, 'Transportation': 1, 'C': 2, 'area': 1, 'Engineering': 1, 'achieved': 1, 'significance': 1, 'within': 1, 'past': 1, 'fifty': 1, 'years': 1, 'Criteria': 1, 'Consideration': 1, 'G': 1, 'applies': 1, 'significant': 2, 'oldest': 1, 'three': 1, 'extant': 1, 'orbiter': 6, 'vehicles': 2, 'constructed': 1, 'SSP': 2, 'longest': 1, 'running': 1, 'American': 1, 'space': 3, 'program': 1, 'date': 1, 'third': 1, 'five': 3, 'orbiters': 2, 'built': 1, 'NASA': 1, 'Unlike': 1, 'Mercury': 1, 'Gemini': 1, 'Apollo': 1, 'programs': 1, '’s': 1, 'emphasis': 1, 'cost': 1, 'effectiveness': 1, 'reusability': 1, 'eventually': 1, 'construction': 2, 'station': 2, 'Including': 1, 'maiden': 1, 'voyage': 1, 'launched': 1, 'August': 1, '30': 1, '1984': 1, 'flew': 3, 'thirty': 2, 'nine': 1, 'times': 2, 'four': 1, 'also': 3, 'first': 10, 'fly': 3, 'twenty': 2, 'missions': 4, 'honor': 1, 'chosen': 1, 'Return': 1, 'Flight': 1, 'vehicle': 1, 'Challenger': 2, 'Columbia': 1, 'accidents': 1, 'shuttle': 2, 'redesigned': 1, 'SRBs': 1, 'result': 1, 'accident': 1, 'Phase': 1, 'II': 1, 'Block': 1, 'SSME': 1, 'carried': 1, 'Hubble': 1, 'Telescope': 1, 'orbit': 1, 'performed': 1, 'two': 2, 'servicing': 1, 'observatory': 1, 'last': 1, 'dedicated': 1, 'Department': 1, 'Defense': 1, 'DoD': 1, 'well': 1, 'unclassified': 1, 'defense': 1, 'related': 1, 'mission': 1, 'addition': 1, 'vital': 1, 'International': 1, 'Station': 1, 'ISS': 2, 'thirteen': 1, 'seven': 1, 'total': 1, 'flown': 2, 'dock': 1, 'perform': 1, 'exchange': 1, 'resident': 1, 'crew': 1, 'feat': 1, 'engineering': 2, 'According': 1, 'Wayne': 1, 'Hale': 2, 'flight': 1, 'director': 1, 'Johnson': 1, 'Center': 1, 'represents': 1, '“': 2, 'huge': 1, 'technological': 1, 'leap': 1, 'expendable': 1, 'rockets': 1, 'capsules': 1, 'reusable': 3, 'winged': 2, 'hypersonic': 2, 'cargo': 2, 'carrying': 2, 'spacecraft': 1, '”': 2, 'Although': 1, 'base': 2, 'structure': 1, 'followed': 1, 'conventional': 1, 'aircraft': 2, 'design': 1, 'used': 1, 'advanced': 1, 'materials': 2, 'minimized': 1, 'weight': 1, 'purposes': 1, 'featured': 2, 'low': 1, 'thermal': 1, 'expansion': 1, 'ratios': 1, 'provided': 1, 'stable': 1, 'Thermal': 1, 'Protection': 1, 'System': 2, 'TPS': 2, 'previous': 1, 'spaceflight': 1, 'single': 1, 'use': 1, 'ablative': 1, 'heat': 1, 'shield': 1, 'notable': 1, 'achievements': 1, 'included': 1, 'orbital': 1, 'propulsion': 1, 'system': 1, 'fault': 1, 'tolerant': 1, 'Integrated': 1, 'Avionics': 1, 'stated': 1, 'remains': 1, 'largest': 1, 'fastest': 1, 'history': 1, 'regularly': 1, 'speed': 1, 'sound': 1}\n"
          ]
        }
      ]
    },
    {
      "cell_type": "code",
      "source": [
        "max_frequnces = max(word_frequencies.values())\n",
        "max_count_words = {k : v for k, v in word_frequencies.items() if v == max_frequnces}\n",
        "print('The most frequest word:')\n",
        "print(max_count_words)\n",
        "\n",
        "\n",
        "for word in word_frequencies:\n",
        "  word_frequencies[word] /= max_frequnces\n",
        "print(word_frequencies)"
      ],
      "metadata": {
        "colab": {
          "base_uri": "https://localhost:8080/"
        },
        "id": "GXBwlUfjTNdE",
        "outputId": "9c4d8f6a-8786-4152-9163-689dbba77790"
      },
      "execution_count": 19,
      "outputs": [
        {
          "output_type": "stream",
          "name": "stdout",
          "text": [
            "The most frequest word:\n",
            "{'Space': 10, 'first': 10}\n",
            "{'Orbiter': 0.1, 'Discovery': 0.7, 'OV-103': 0.1, 'considered': 0.1, 'eligible': 0.1, 'listing': 0.1, 'National': 0.1, 'Register': 0.1, 'Historic': 0.1, 'Places': 0.1, 'NRHP': 0.1, 'context': 0.1, 'U.S.': 0.2, 'Space': 1.0, 'Shuttle': 0.6, 'Program': 0.2, '1969': 0.1, '2011': 0.1, 'Criterion': 0.4, 'areas': 0.1, 'Exploration': 0.1, 'Transportation': 0.1, 'C': 0.2, 'area': 0.1, 'Engineering': 0.1, 'achieved': 0.1, 'significance': 0.1, 'within': 0.1, 'past': 0.1, 'fifty': 0.1, 'years': 0.1, 'Criteria': 0.1, 'Consideration': 0.1, 'G': 0.1, 'applies': 0.1, 'significant': 0.2, 'oldest': 0.1, 'three': 0.1, 'extant': 0.1, 'orbiter': 0.6, 'vehicles': 0.2, 'constructed': 0.1, 'SSP': 0.2, 'longest': 0.1, 'running': 0.1, 'American': 0.1, 'space': 0.3, 'program': 0.1, 'date': 0.1, 'third': 0.1, 'five': 0.3, 'orbiters': 0.2, 'built': 0.1, 'NASA': 0.1, 'Unlike': 0.1, 'Mercury': 0.1, 'Gemini': 0.1, 'Apollo': 0.1, 'programs': 0.1, '’s': 0.1, 'emphasis': 0.1, 'cost': 0.1, 'effectiveness': 0.1, 'reusability': 0.1, 'eventually': 0.1, 'construction': 0.2, 'station': 0.2, 'Including': 0.1, 'maiden': 0.1, 'voyage': 0.1, 'launched': 0.1, 'August': 0.1, '30': 0.1, '1984': 0.1, 'flew': 0.3, 'thirty': 0.2, 'nine': 0.1, 'times': 0.2, 'four': 0.1, 'also': 0.3, 'first': 1.0, 'fly': 0.3, 'twenty': 0.2, 'missions': 0.4, 'honor': 0.1, 'chosen': 0.1, 'Return': 0.1, 'Flight': 0.1, 'vehicle': 0.1, 'Challenger': 0.2, 'Columbia': 0.1, 'accidents': 0.1, 'shuttle': 0.2, 'redesigned': 0.1, 'SRBs': 0.1, 'result': 0.1, 'accident': 0.1, 'Phase': 0.1, 'II': 0.1, 'Block': 0.1, 'SSME': 0.1, 'carried': 0.1, 'Hubble': 0.1, 'Telescope': 0.1, 'orbit': 0.1, 'performed': 0.1, 'two': 0.2, 'servicing': 0.1, 'observatory': 0.1, 'last': 0.1, 'dedicated': 0.1, 'Department': 0.1, 'Defense': 0.1, 'DoD': 0.1, 'well': 0.1, 'unclassified': 0.1, 'defense': 0.1, 'related': 0.1, 'mission': 0.1, 'addition': 0.1, 'vital': 0.1, 'International': 0.1, 'Station': 0.1, 'ISS': 0.2, 'thirteen': 0.1, 'seven': 0.1, 'total': 0.1, 'flown': 0.2, 'dock': 0.1, 'perform': 0.1, 'exchange': 0.1, 'resident': 0.1, 'crew': 0.1, 'feat': 0.1, 'engineering': 0.2, 'According': 0.1, 'Wayne': 0.1, 'Hale': 0.2, 'flight': 0.1, 'director': 0.1, 'Johnson': 0.1, 'Center': 0.1, 'represents': 0.1, '“': 0.2, 'huge': 0.1, 'technological': 0.1, 'leap': 0.1, 'expendable': 0.1, 'rockets': 0.1, 'capsules': 0.1, 'reusable': 0.3, 'winged': 0.2, 'hypersonic': 0.2, 'cargo': 0.2, 'carrying': 0.2, 'spacecraft': 0.1, '”': 0.2, 'Although': 0.1, 'base': 0.2, 'structure': 0.1, 'followed': 0.1, 'conventional': 0.1, 'aircraft': 0.2, 'design': 0.1, 'used': 0.1, 'advanced': 0.1, 'materials': 0.2, 'minimized': 0.1, 'weight': 0.1, 'purposes': 0.1, 'featured': 0.2, 'low': 0.1, 'thermal': 0.1, 'expansion': 0.1, 'ratios': 0.1, 'provided': 0.1, 'stable': 0.1, 'Thermal': 0.1, 'Protection': 0.1, 'System': 0.2, 'TPS': 0.2, 'previous': 0.1, 'spaceflight': 0.1, 'single': 0.1, 'use': 0.1, 'ablative': 0.1, 'heat': 0.1, 'shield': 0.1, 'notable': 0.1, 'achievements': 0.1, 'included': 0.1, 'orbital': 0.1, 'propulsion': 0.1, 'system': 0.1, 'fault': 0.1, 'tolerant': 0.1, 'Integrated': 0.1, 'Avionics': 0.1, 'stated': 0.1, 'remains': 0.1, 'largest': 0.1, 'fastest': 0.1, 'history': 0.1, 'regularly': 0.1, 'speed': 0.1, 'sound': 0.1}\n"
          ]
        }
      ]
    },
    {
      "cell_type": "code",
      "source": [
        "# Разбиваем текст на предложения\n",
        "# Создаём список предложений из текста\n",
        "sentence_tokens = list(doc.sents)\n",
        "# Создаём пустой словарь для хранения оценок предложений\n",
        "sentence_scores = {}\n",
        "\n",
        "# Проходим по каждому предложению\n",
        "for sent in sentence_tokens:\n",
        "    # Инициализируем счетчик для каждого предложения\n",
        "    sentence_scores[sent] = 0\n",
        "    # Проходим по каждому слову в предложении\n",
        "    for word in sent:\n",
        "        if word.text.lower() in word_frequencies:\n",
        "            # Если предложение ещё не оценивалось, добавляем его в словарь с оценкой\n",
        "            if sent not in sentence_scores:\n",
        "                sentence_scores[sent] = word_frequencies[word.text.lower()]\n",
        "            # Если предложение уже есть в словаре, увеличиваем его оценку\n",
        "            else:\n",
        "                sentence_scores[sent] += word_frequencies[word.text.lower()]\n",
        "        # if word.text.lower() in word_frequencies:\n",
        "        #     # Если слово есть в word_frequencies, добавляем его значение к счетчику предложения\n",
        "        #     sentence_scores[sent] += word_frequencies[word.text.lower()]\n",
        "\n",
        "# Выводим предложения и их оценки\n",
        "for sent, score in sentence_scores.items():\n",
        "    print(f\"Sentence: {sent}\\nScore: {score}\\n\")\n",
        "\n",
        "# Выводим количество предложений и их количество в словаре\n",
        "print(f'Количество предложений в sentence_tokens: {len(sentence_tokens)}')\n",
        "print(f'Количество записей в sentence_scores: {len(sentence_scores)}')\n",
        "\n",
        "# Этот код оценивает каждое предложение в тексте по частоте встречаемости слов. Чем чаще слова встречаются в тексте, тем выше оценка предложения.\n",
        "# Мы это делаем, чтобы определить важность или значимость каждого предложения в тексте.\n",
        "# Если предложение содержит много часто встречающихся слов, это может означать, что оно более важное или информативное\n",
        "\n",
        "# Резюмирование: Оценка предложений помогает выделить ключевые предложения для создания краткого резюме текста.\n",
        "# Поиск информации: Помогает найти важные предложения, которые содержат основные идеи текста.\n",
        "# Анализ текста: Улучшает понимание текста, выявляя его наиболее значимые части.\n",
        "\n",
        "# Количество предложений в списке sentence_tokens может отличаться от количества ключей в словаре sentence_scores,\n",
        "# если некоторые предложения не соответствуют условиям фильтрации в цикле for. Вот несколько возможных причин:\n",
        "# Отсутствие слов в word_frequencies: Если предложения не содержат слов, которые есть в word_frequencies, они не будут добавлены в sentence_scores.\n",
        "# Проблемы с регистром или пунктуацией: Если слова в предложениях имеют разные регистры или пункты, они могут не совпадать с ключами в word_frequencies.\n",
        "# Ошибка в логике: Если код не обрабатывает предложения должным образом или если есть ошибки в логике добавления и обновления значений в sentence_scores."
      ],
      "metadata": {
        "colab": {
          "base_uri": "https://localhost:8080/"
        },
        "id": "oU53EJqgmtL_",
        "outputId": "f2d12788-aa25-4096-d04f-d6cecf3bc13a"
      },
      "execution_count": 20,
      "outputs": [
        {
          "output_type": "stream",
          "name": "stdout",
          "text": [
            "Sentence: The Orbiter Discovery, OV-103, is considered eligible for listing in the National Register of Historic Places (NRHP) in the context of the U.S. Space Shuttle Program (1969-2011) under Criterion A in the areas of Space Exploration and Transportation and under Criterion C in the area of Engineering.\n",
            "Score: 2.5000000000000004\n",
            "\n",
            "Sentence: Because it has achieved significance within the past fifty years, Criteria Consideration G applies.\n",
            "Score: 0.7\n",
            "\n",
            "Sentence: Under Criterion A, Discovery is significant as the oldest of the three extant orbiter vehicles constructed for the Space Shuttle Program (SSP), the longest running American space program to date; she was the third of five orbiters built by NASA.\n",
            "Score: 3.4000000000000004\n",
            "\n",
            "Sentence: Unlike the Mercury, Gemini, and Apollo programs, the SSP’s emphasis was on cost effectiveness and reusability, and eventually the construction of a space station.\n",
            "Score: 1.4\n",
            "\n",
            "Sentence: Including her maiden voyage (launched August 30, 1984), Discovery flew to space thirty-nine times, more than any of the other four orbiters; she was also the first orbiter to fly twenty missions.\n",
            "Score: 4.700000000000001\n",
            "\n",
            "Sentence: She had the honor of being chosen as the Return to Flight vehicle after both the Challenger and Columbia accidents.\n",
            "Score: 0.5\n",
            "\n",
            "Sentence: Discovery was the first shuttle to fly with the redesigned SRBs, a result of the Challenger accident, and the first shuttle to fly with the Phase II and Block I SSME.\n",
            "Score: 3.3000000000000003\n",
            "\n",
            "Sentence: Discovery also carried the Hubble Space Telescope to orbit and performed two of the five servicing missions to the observatory.\n",
            "Score: 2.0\n",
            "\n",
            "Sentence: She flew the first and last dedicated Department of Defense (DoD) missions, as well as the first unclassified defense-related mission.\n",
            "Score: 3.500000000000001\n",
            "\n",
            "Sentence: In addition, Discovery was vital to the construction of the International Space Station (ISS); she flew thirteen of the thirty-seven total missions flown to the station by a U.S. Space Shuttle.\n",
            "Score: 3.0000000000000004\n",
            "\n",
            "Sentence: She was the first orbiter to dock to the ISS, and the first to perform an exchange of a resident crew.\n",
            "Score: 3.1000000000000005\n",
            "\n",
            "Sentence: Under Criterion C, Discovery is significant as a feat of engineering.\n",
            "Score: 0.5\n",
            "\n",
            "Sentence: According to Wayne Hale, a flight director from Johnson Space Center, the Space Shuttle orbiter represents a “huge technological leap from expendable rockets and capsules to a reusable, winged, hypersonic, cargo-carrying spacecraft.”\n",
            "Score: 3.9000000000000012\n",
            "\n",
            "Sentence: Although her base structure followed a conventional aircraft design, she used advanced materials that both minimized her weight for cargo-carrying purposes and featured low thermal expansion ratios, which provided a stable base for her Thermal Protection System (TPS) materials.\n",
            "Score: 3.300000000000001\n",
            "\n",
            "Sentence: The Space Shuttle orbiter also featured the first reusable TPS; all previous spaceflight vehicles had a single-use, ablative heat shield.\n",
            "Score: 3.8000000000000007\n",
            "\n",
            "Sentence: Other notable engineering achievements of the orbiter included the first reusable orbital propulsion system, and the first two-fault-tolerant Integrated Avionics System.\n",
            "Score: 4.199999999999999\n",
            "\n",
            "Sentence: As Hale stated, the Space Shuttle remains “the largest, fastest, winged hypersonic aircraft in history,” having regularly flown at twenty-five times the speed of sound.\n",
            "Score: 3.200000000000001\n",
            "\n",
            "Количество предложений в sentence_tokens: 17\n",
            "Количество записей в sentence_scores: 17\n"
          ]
        }
      ]
    },
    {
      "cell_type": "code",
      "source": [
        "# ⬆️ Этот результат показывает, как оценены предложения по их важности в тексте. Чем больше значение, тем более важное предложение.\n",
        "# Например, предложение с самым высоким значением (4.7) имеет большую значимость по сравнению с другими."
      ],
      "metadata": {
        "id": "izGUUTIrkSPf"
      },
      "execution_count": 21,
      "outputs": []
    },
    {
      "cell_type": "code",
      "source": [
        "# ⬇️ Разные способы разбивки текста: sent_tokenize и doc.sents могут использовать разные алгоритмы для разбиения текста на предложения.\n",
        "# Например, один может учитывать определенные знаки препинания, такие как точки, вопросительные знаки и восклицательные знаки,\n",
        "# в то время как другой может обрабатывать их по-другому.\n",
        "# Спецсимволы и форматирование: В исходном тексте могут быть спецсимволы или форматирование, которые влияют на разбиение предложений.\n",
        "# Например, лишние пробелы, символы новой строки или необычные знаки препинания могут создавать дополнительные \"предложения\".\n",
        "# Обработка абзацев: В зависимости от того, как текст был разбит (например, с помощью метода sent_tokenize или библиотекой NLP),\n",
        "# абзацы могут интерпретироваться по-разному. Возможно, что библиотека NLP считает некоторые абзацы отдельными предложениями."
      ],
      "metadata": {
        "id": "Q7_AtRofopwu"
      },
      "execution_count": 22,
      "outputs": []
    },
    {
      "cell_type": "code",
      "source": [
        "from nltk.tokenize import sent_tokenize\n",
        "\n",
        "# Разбиваем текст на предложения с помощью nltk\n",
        "sentences_nltk = sent_tokenize(text)\n",
        "print(\"Sentences using nltk:\")  # Печатаем заголовок для предложений, найденных с помощью nltk\n",
        "for i, sentence in enumerate(sentences_nltk, start=1):  # Перебираем предложения и нумеруем их\n",
        "    print(f\"{i}. {sentence}\")  # Печатаем номер предложения и само предложение\n",
        "\n",
        "# Разбиваем текст на предложения с помощью spaCy (или другой библиотеки NLP)\n",
        "sentence_tokens_spacy = list(doc.sents)  # Преобразуем предложения из spaCy в список\n",
        "print(\"\\nSentences using spaCy:\")  # Печатаем заголовок для предложений, найденных с помощью spaCy\n",
        "for i, sentence in enumerate(sentence_tokens_spacy, start=1):  # Перебираем предложения и нумеруем их\n",
        "    print(f\"{i}. {sentence.text}\")  # Печатаем номер предложения и само предложение\n",
        "# Сравним, как разные библиотеки разбивают текст на предложения:"
      ],
      "metadata": {
        "colab": {
          "base_uri": "https://localhost:8080/"
        },
        "id": "jnk9WRYOoeXo",
        "outputId": "8f24a02b-11dd-4f1b-8dd1-59ca86452e7f"
      },
      "execution_count": 23,
      "outputs": [
        {
          "output_type": "stream",
          "name": "stdout",
          "text": [
            "Sentences using nltk:\n",
            "1. The Orbiter Discovery, OV-103, is considered eligible for listing in the National Register of Historic Places (NRHP) in the context of the U.S. Space Shuttle Program (1969-2011) under Criterion A in the areas of Space Exploration and Transportation and under Criterion C in the area of Engineering.\n",
            "2. Because it has achieved significance within the past fifty years, Criteria Consideration G applies.\n",
            "3. Under Criterion A, Discovery is significant as the oldest of the three extant orbiter vehicles constructed for the Space Shuttle Program (SSP), the longest running American space program to date; she was the third of five orbiters built by NASA.\n",
            "4. Unlike the Mercury, Gemini, and Apollo programs, the SSP’s emphasis was on cost effectiveness and reusability, and eventually the construction of a space station.\n",
            "5. Including her maiden voyage (launched August 30, 1984), Discovery flew to space thirty-nine times, more than any of the other four orbiters; she was also the first orbiter to fly twenty missions.\n",
            "6. She had the honor of being chosen as the Return to Flight vehicle after both the Challenger and Columbia accidents.\n",
            "7. Discovery was the first shuttle to fly with the redesigned SRBs, a result of the Challenger accident, and the first shuttle to fly with the Phase II and Block I SSME.\n",
            "8. Discovery also carried the Hubble Space Telescope to orbit and performed two of the five servicing missions to the observatory.\n",
            "9. She flew the first and last dedicated Department of Defense (DoD) missions, as well as the first unclassified defense-related mission.\n",
            "10. In addition, Discovery was vital to the construction of the International Space Station (ISS); she flew thirteen of the thirty-seven total missions flown to the station by a U.S. Space Shuttle.\n",
            "11. She was the first orbiter to dock to the ISS, and the first to perform an exchange of a resident crew.\n",
            "12. Under Criterion C, Discovery is significant as a feat of engineering.\n",
            "13. According to Wayne Hale, a flight director from Johnson Space Center, the Space Shuttle orbiter represents a “huge technological leap from expendable rockets and capsules to a reusable, winged, hypersonic, cargo-carrying spacecraft.” Although her base structure followed a conventional aircraft design, she used advanced materials that both minimized her weight for cargo-carrying purposes and featured low thermal expansion ratios, which provided a stable base for her Thermal Protection System (TPS) materials.\n",
            "14. The Space Shuttle orbiter also featured the first reusable TPS; all previous spaceflight vehicles had a single-use, ablative heat shield.\n",
            "15. Other notable engineering achievements of the orbiter included the first reusable orbital propulsion system, and the first two-fault-tolerant Integrated Avionics System.\n",
            "16. As Hale stated, the Space Shuttle remains “the largest, fastest, winged hypersonic aircraft in history,” having regularly flown at twenty-five times the speed of sound.\n",
            "\n",
            "Sentences using spaCy:\n",
            "1. The Orbiter Discovery, OV-103, is considered eligible for listing in the National Register of Historic Places (NRHP) in the context of the U.S. Space Shuttle Program (1969-2011) under Criterion A in the areas of Space Exploration and Transportation and under Criterion C in the area of Engineering.\n",
            "2. Because it has achieved significance within the past fifty years, Criteria Consideration G applies.\n",
            "3. Under Criterion A, Discovery is significant as the oldest of the three extant orbiter vehicles constructed for the Space Shuttle Program (SSP), the longest running American space program to date; she was the third of five orbiters built by NASA.\n",
            "4. Unlike the Mercury, Gemini, and Apollo programs, the SSP’s emphasis was on cost effectiveness and reusability, and eventually the construction of a space station.\n",
            "5. Including her maiden voyage (launched August 30, 1984), Discovery flew to space thirty-nine times, more than any of the other four orbiters; she was also the first orbiter to fly twenty missions.\n",
            "6. She had the honor of being chosen as the Return to Flight vehicle after both the Challenger and Columbia accidents.\n",
            "7. Discovery was the first shuttle to fly with the redesigned SRBs, a result of the Challenger accident, and the first shuttle to fly with the Phase II and Block I SSME.\n",
            "8. Discovery also carried the Hubble Space Telescope to orbit and performed two of the five servicing missions to the observatory.\n",
            "9. She flew the first and last dedicated Department of Defense (DoD) missions, as well as the first unclassified defense-related mission.\n",
            "10. In addition, Discovery was vital to the construction of the International Space Station (ISS); she flew thirteen of the thirty-seven total missions flown to the station by a U.S. Space Shuttle.\n",
            "11. She was the first orbiter to dock to the ISS, and the first to perform an exchange of a resident crew.\n",
            "12. Under Criterion C, Discovery is significant as a feat of engineering.\n",
            "13. According to Wayne Hale, a flight director from Johnson Space Center, the Space Shuttle orbiter represents a “huge technological leap from expendable rockets and capsules to a reusable, winged, hypersonic, cargo-carrying spacecraft.”\n",
            "14. Although her base structure followed a conventional aircraft design, she used advanced materials that both minimized her weight for cargo-carrying purposes and featured low thermal expansion ratios, which provided a stable base for her Thermal Protection System (TPS) materials.\n",
            "15. The Space Shuttle orbiter also featured the first reusable TPS; all previous spaceflight vehicles had a single-use, ablative heat shield.\n",
            "16. Other notable engineering achievements of the orbiter included the first reusable orbital propulsion system, and the first two-fault-tolerant Integrated Avionics System.\n",
            "17. As Hale stated, the Space Shuttle remains “the largest, fastest, winged hypersonic aircraft in history,” having regularly flown at twenty-five times the speed of sound.\n"
          ]
        }
      ]
    },
    {
      "cell_type": "code",
      "source": [
        "# Проверьте текст на наличие необычных символов или форматирования\n",
        "print(f'Text preview: {text[:500]}')  # Выводим начало текста для проверки\n",
        "\n",
        "# Вывод показывает начало текста, что полезно для быстрой проверки, как выглядит текст перед дальнейшей обработкой.\n",
        "# Если начало текста выглядит правильно и не содержит ошибок, можно продолжать работу с ним."
      ],
      "metadata": {
        "colab": {
          "base_uri": "https://localhost:8080/"
        },
        "id": "lgx0YhMuojHN",
        "outputId": "8a7cc2e6-6350-4b0b-82a1-cdca0d3ff12f"
      },
      "execution_count": 24,
      "outputs": [
        {
          "output_type": "stream",
          "name": "stdout",
          "text": [
            "Text preview: The Orbiter Discovery, OV-103, is considered eligible for listing in the National Register of Historic Places (NRHP) in the context of the U.S. Space Shuttle Program (1969-2011) under Criterion A in the areas of Space Exploration and Transportation and under Criterion C in the area of Engineering. Because it has achieved significance within the past fifty years, Criteria Consideration G applies. Under Criterion A, Discovery is significant as the oldest of the three extant orbiter vehicles constr\n"
          ]
        }
      ]
    },
    {
      "cell_type": "code",
      "source": [
        "# Создаем множество предложений из nltk\n",
        "set_nltk = set(sentences_nltk)\n",
        "# Создаем множество предложений из spaCy\n",
        "set_spacy = set(str(sent) for sent in sentence_tokens_spacy)\n",
        "\n",
        "# Находим предложения, которые есть в nltk, но нет в spaCy\n",
        "differences_nltk_spacy = set_nltk - set_spacy\n",
        "print(\"Sentences in NLTK but not in spaCy:\")\n",
        "for sentence in differences_nltk_spacy:\n",
        "    print(sentence) # выводим предложения, которые есть в NLTK, но нет в spaCy.\n",
        "\n",
        "# Находим предложения, которые есть в spaCy, но нет в nltk\n",
        "differences_spacy_nltk = set_spacy - set_nltk\n",
        "print(\"\\nSentences in spaCy but not in NLTK:\")\n",
        "for sentence in differences_spacy_nltk:\n",
        "    print(sentence) # выводим предложения, которые есть в spaCy, но нет в NLTK.\n",
        "\n",
        "# Этот код помогает увидеть, как разные библиотеки разбивают текст на предложения. Можно заметить:\n",
        "# Какие предложения NLTK находит, но spaCy нет.\n",
        "# Какие предложения spaCy находит, но NLTK нет.\n",
        "# Это помогает понять, почему результаты могут отличаться, если используются разные инструменты для обработки текста."
      ],
      "metadata": {
        "colab": {
          "base_uri": "https://localhost:8080/"
        },
        "id": "MSf1JzpfolxX",
        "outputId": "880194ec-0d69-447d-a800-228a159037d9"
      },
      "execution_count": 25,
      "outputs": [
        {
          "output_type": "stream",
          "name": "stdout",
          "text": [
            "Sentences in NLTK but not in spaCy:\n",
            "According to Wayne Hale, a flight director from Johnson Space Center, the Space Shuttle orbiter represents a “huge technological leap from expendable rockets and capsules to a reusable, winged, hypersonic, cargo-carrying spacecraft.” Although her base structure followed a conventional aircraft design, she used advanced materials that both minimized her weight for cargo-carrying purposes and featured low thermal expansion ratios, which provided a stable base for her Thermal Protection System (TPS) materials.\n",
            "\n",
            "Sentences in spaCy but not in NLTK:\n",
            "According to Wayne Hale, a flight director from Johnson Space Center, the Space Shuttle orbiter represents a “huge technological leap from expendable rockets and capsules to a reusable, winged, hypersonic, cargo-carrying spacecraft.”\n",
            "Although her base structure followed a conventional aircraft design, she used advanced materials that both minimized her weight for cargo-carrying purposes and featured low thermal expansion ratios, which provided a stable base for her Thermal Protection System (TPS) materials.\n"
          ]
        }
      ]
    },
    {
      "cell_type": "code",
      "source": [
        "# ⬆️ NLTK и spaCy по-разному разбивают текст на предложения"
      ],
      "metadata": {
        "id": "XbZEW2UCr0R4"
      },
      "execution_count": 26,
      "outputs": []
    },
    {
      "cell_type": "code",
      "source": [
        "# ⬆️⬇️\n",
        "# Коли ми вже маємо підготовлений текст та використали SpaCy або NLTK для отримання необхідної інформації, ми можемо створити текстове резюме.\n",
        "# Це можна зробити, наприклад, шляхом виділення найважливіших речень з тексту, враховуючи їх вагу або частоту вживання певних слів."
      ],
      "metadata": {
        "id": "kDiiQNsYsTTg"
      },
      "execution_count": 27,
      "outputs": []
    },
    {
      "cell_type": "code",
      "source": [
        "# ⬇️ Бібліотека heapq\n",
        "# Бібліотека heapq є частиною стандартної бібліотеки Python і надає функціонал для роботи зі структурами даних під назвою heap.\n",
        "# Один з імпортованих об’єктів у цій бібліотеці - nlargest - є функцією, яка дозволяє знаходити найбільші елементи з ітерабельного об’єкту."
      ],
      "metadata": {
        "id": "pxBDPC5WsiPN"
      },
      "execution_count": 28,
      "outputs": []
    },
    {
      "cell_type": "code",
      "source": [
        "# Импортируем функцию nlargest из модуля heapq, которая позволяет выбрать наибольшие элементы из списка.\n",
        "from heapq import nlargest"
      ],
      "metadata": {
        "id": "tVo9Fo4H_s_c"
      },
      "execution_count": 29,
      "outputs": []
    },
    {
      "cell_type": "code",
      "source": [
        "# Функція `nlargest(n, iterable, key=None)`` приймає три аргументи:\n",
        "  # • n - це кількість найбільших елементів, які ви хочете отримати\n",
        "  # • iterable - це ітерабельний об’єкт, з якого ви хочете вибрати найбільші елементи\n",
        "  # • key (необов’язковий) - це функція, яка визначає, за яким ключем відбувається порівняння елементів (наприклад, key=str.lower)\n",
        "# Функція nlargest повертає список з n найбільших елементів з iterable. Ці елементи будуть впорядковані у порядку спадання.\n",
        "# Якщо n більше довжини iterable, то функція поверне весь iterable у відсортованому порядку.\n",
        "# Отже, імпортований from heapq import nlargest дозволяє використовувати функцію `nlargest`` для знаходження найбільших елементів з довільного ітерабельного об’єкту."
      ],
      "metadata": {
        "id": "LNzXcWl7sv5m"
      },
      "execution_count": 30,
      "outputs": []
    },
    {
      "cell_type": "code",
      "source": [
        "# ⬇️ У даному випадку, функція nlargest використовується для знаходження в select_length найбільших елементів зі словника sentence_scores.\n",
        "# Ключі словника представляють речення, а значення - їхні оцінки або ваги. Аргумент key заданий як sentence_scores.get, що означає,\n",
        "# що функція get використовується для порівняння елементів. У даному випадку, вона повертає значення (оцінку) для кожного речення, яке використовується\n",
        "# як критерій для порівняння. Отже, змінна summary міститиме список select_length найкращих речень зі словника sentence_scores у порядку спадання оцінок."
      ],
      "metadata": {
        "id": "xp2n7ERWuBhm"
      },
      "execution_count": 31,
      "outputs": []
    },
    {
      "cell_type": "code",
      "source": [
        "select_length = int(len(sentence_tokens)) # Определяем количество предложений в тексте и сохраняем это число в переменную\n",
        "print(f\"Number of sentence {select_length}\")\n",
        "# Находим предложения с наибольшими оценками\n",
        "# Используем функцию nlargest, чтобы найти select_length (то есть все) предложения с наибольшими\n",
        "# оценками из словаря sentence_scores. Сортировка идет по значениям словаря, которые хранятся в sentence_scores.\n",
        "summary = nlargest(select_length, sentence_scores, key = sentence_scores.get)\n",
        "\n",
        "# Выводим каждое из выбранных предложений\n",
        "for i in summary:\n",
        "  print(i)\n",
        "\n",
        "# Этот код выбирает все предложения с наивысшими оценками и выводит их.\n",
        "# Или все предложения в порядке убывания их оценок - (select_length = int(len(sentence_tokens)))\n",
        "# Если select_length меньше общего количества предложений, то будут выбраны только select_length наивысших оценок.\n",
        "# код всегда выводит предложения в порядке убывания их оценок, когда select_length равно общему числу предложений."
      ],
      "metadata": {
        "colab": {
          "base_uri": "https://localhost:8080/"
        },
        "id": "XTJs7Aybu-dd",
        "outputId": "e5a9c8d1-81bc-469e-f17b-55c75cfaae9d"
      },
      "execution_count": 32,
      "outputs": [
        {
          "output_type": "stream",
          "name": "stdout",
          "text": [
            "Number of sentence 17\n",
            "Including her maiden voyage (launched August 30, 1984), Discovery flew to space thirty-nine times, more than any of the other four orbiters; she was also the first orbiter to fly twenty missions.\n",
            "Other notable engineering achievements of the orbiter included the first reusable orbital propulsion system, and the first two-fault-tolerant Integrated Avionics System.\n",
            "According to Wayne Hale, a flight director from Johnson Space Center, the Space Shuttle orbiter represents a “huge technological leap from expendable rockets and capsules to a reusable, winged, hypersonic, cargo-carrying spacecraft.”\n",
            "The Space Shuttle orbiter also featured the first reusable TPS; all previous spaceflight vehicles had a single-use, ablative heat shield.\n",
            "She flew the first and last dedicated Department of Defense (DoD) missions, as well as the first unclassified defense-related mission.\n",
            "Under Criterion A, Discovery is significant as the oldest of the three extant orbiter vehicles constructed for the Space Shuttle Program (SSP), the longest running American space program to date; she was the third of five orbiters built by NASA.\n",
            "Although her base structure followed a conventional aircraft design, she used advanced materials that both minimized her weight for cargo-carrying purposes and featured low thermal expansion ratios, which provided a stable base for her Thermal Protection System (TPS) materials.\n",
            "Discovery was the first shuttle to fly with the redesigned SRBs, a result of the Challenger accident, and the first shuttle to fly with the Phase II and Block I SSME.\n",
            "As Hale stated, the Space Shuttle remains “the largest, fastest, winged hypersonic aircraft in history,” having regularly flown at twenty-five times the speed of sound.\n",
            "She was the first orbiter to dock to the ISS, and the first to perform an exchange of a resident crew.\n",
            "In addition, Discovery was vital to the construction of the International Space Station (ISS); she flew thirteen of the thirty-seven total missions flown to the station by a U.S. Space Shuttle.\n",
            "The Orbiter Discovery, OV-103, is considered eligible for listing in the National Register of Historic Places (NRHP) in the context of the U.S. Space Shuttle Program (1969-2011) under Criterion A in the areas of Space Exploration and Transportation and under Criterion C in the area of Engineering.\n",
            "Discovery also carried the Hubble Space Telescope to orbit and performed two of the five servicing missions to the observatory.\n",
            "Unlike the Mercury, Gemini, and Apollo programs, the SSP’s emphasis was on cost effectiveness and reusability, and eventually the construction of a space station.\n",
            "Because it has achieved significance within the past fifty years, Criteria Consideration G applies.\n",
            "She had the honor of being chosen as the Return to Flight vehicle after both the Challenger and Columbia accidents.\n",
            "Under Criterion C, Discovery is significant as a feat of engineering.\n"
          ]
        }
      ]
    },
    {
      "cell_type": "code",
      "source": [
        "# Из этого задания можно сделать следующие выводы:\n",
        "\n",
        "# Сравнение методов\n",
        "  # Pазные библиотеки (NLTK и spaCy) могут по-разному разбирать текст на предложения.\n",
        "  # Это может повлиять на то, какие предложения вы получаете и как их оцениваете.\n",
        "# Ранжирование предложений\n",
        "  # Используя оценки предложений, вы можете упорядочить их по важности. Это полезно для создания резюме текста или выделения ключевых предложений.\n",
        "# Проблемы с форматированием и оценками\n",
        "  # Разные способы разбиения текста на предложения могут приводить к разным результатам, что важно учитывать при анализе текста.\n",
        "# Практическое применение\n",
        "  # В реальных задачах такие методы могут быть использованы для выделения самых важных предложений в документах, создания резюме, анализа текстов и т.д.\n",
        "\n",
        "# Применение:\n",
        "  # Можно использовать для создания кратких резюме или для выделения ключевых частей текста.\n",
        "  # Помогает понять, как разные инструменты могут влиять на разбиение и оценку текста."
      ],
      "metadata": {
        "id": "J9z19TOLw4_O"
      },
      "execution_count": 33,
      "outputs": []
    }
  ]
}